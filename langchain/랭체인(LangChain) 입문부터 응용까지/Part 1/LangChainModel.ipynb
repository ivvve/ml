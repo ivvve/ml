{
 "cells": [
  {
   "cell_type": "code",
   "execution_count": 1,
   "metadata": {},
   "outputs": [],
   "source": [
    "from langchain.globals import set_debug\n",
    "set_debug(True)"
   ]
  },
  {
   "cell_type": "markdown",
   "metadata": {},
   "source": [
    "## LangChain Model"
   ]
  },
  {
   "cell_type": "markdown",
   "metadata": {},
   "source": [
    "### LLM"
   ]
  },
  {
   "cell_type": "code",
   "execution_count": 2,
   "metadata": {},
   "outputs": [
    {
     "name": "stdout",
     "output_type": "stream",
     "text": [
      "\u001b[32;1m\u001b[1;3m[llm/start]\u001b[0m \u001b[1m[llm:ChatGoogleGenerativeAI] Entering LLM run with input:\n",
      "\u001b[0m{\n",
      "  \"prompts\": [\n",
      "    \"Human: 한국의 대표적인 관광지 3군데를 추천해주세요.\"\n",
      "  ]\n",
      "}\n",
      "\u001b[36;1m\u001b[1;3m[llm/end]\u001b[0m \u001b[1m[llm:ChatGoogleGenerativeAI] [3.38s] Exiting LLM run with output:\n",
      "\u001b[0m{\n",
      "  \"generations\": [\n",
      "    [\n",
      "      {\n",
      "        \"text\": \"1. **경복궁:** 서울에 위치한 조선 왕조의 주요 궁전으로, 한국의 역사와 건축을 경험하기에 완벽한 곳입니다.\\n2. **제주도:** 화산섬인 제주도는 독특한 풍경, 해변, 화산 정상으로 유명합니다. 유네스코 세계 자연 유산으로 지정되었습니다.\\n3. **부산 해운대 해변:** 남한의 가장 큰 도시인 부산에 위치한 해운대 해변은 활기찬 해안가 분위기, 멋진 해변, 다양한 해산물 레스토랑을 갖추고 있습니다.\",\n",
      "        \"generation_info\": {\n",
      "          \"finish_reason\": \"STOP\",\n",
      "          \"safety_ratings\": [\n",
      "            {\n",
      "              \"category\": \"HARM_CATEGORY_SEXUALLY_EXPLICIT\",\n",
      "              \"probability\": \"NEGLIGIBLE\",\n",
      "              \"blocked\": false\n",
      "            },\n",
      "            {\n",
      "              \"category\": \"HARM_CATEGORY_HATE_SPEECH\",\n",
      "              \"probability\": \"NEGLIGIBLE\",\n",
      "              \"blocked\": false\n",
      "            },\n",
      "            {\n",
      "              \"category\": \"HARM_CATEGORY_HARASSMENT\",\n",
      "              \"probability\": \"NEGLIGIBLE\",\n",
      "              \"blocked\": false\n",
      "            },\n",
      "            {\n",
      "              \"category\": \"HARM_CATEGORY_DANGEROUS_CONTENT\",\n",
      "              \"probability\": \"NEGLIGIBLE\",\n",
      "              \"blocked\": false\n",
      "            }\n",
      "          ]\n",
      "        },\n",
      "        \"type\": \"ChatGeneration\",\n",
      "        \"message\": {\n",
      "          \"lc\": 1,\n",
      "          \"type\": \"constructor\",\n",
      "          \"id\": [\n",
      "            \"langchain\",\n",
      "            \"schema\",\n",
      "            \"messages\",\n",
      "            \"AIMessage\"\n",
      "          ],\n",
      "          \"kwargs\": {\n",
      "            \"content\": \"1. **경복궁:** 서울에 위치한 조선 왕조의 주요 궁전으로, 한국의 역사와 건축을 경험하기에 완벽한 곳입니다.\\n2. **제주도:** 화산섬인 제주도는 독특한 풍경, 해변, 화산 정상으로 유명합니다. 유네스코 세계 자연 유산으로 지정되었습니다.\\n3. **부산 해운대 해변:** 남한의 가장 큰 도시인 부산에 위치한 해운대 해변은 활기찬 해안가 분위기, 멋진 해변, 다양한 해산물 레스토랑을 갖추고 있습니다.\",\n",
      "            \"response_metadata\": {\n",
      "              \"prompt_feedback\": {\n",
      "                \"block_reason\": 0,\n",
      "                \"safety_ratings\": []\n",
      "              },\n",
      "              \"finish_reason\": \"STOP\",\n",
      "              \"safety_ratings\": [\n",
      "                {\n",
      "                  \"category\": \"HARM_CATEGORY_SEXUALLY_EXPLICIT\",\n",
      "                  \"probability\": \"NEGLIGIBLE\",\n",
      "                  \"blocked\": false\n",
      "                },\n",
      "                {\n",
      "                  \"category\": \"HARM_CATEGORY_HATE_SPEECH\",\n",
      "                  \"probability\": \"NEGLIGIBLE\",\n",
      "                  \"blocked\": false\n",
      "                },\n",
      "                {\n",
      "                  \"category\": \"HARM_CATEGORY_HARASSMENT\",\n",
      "                  \"probability\": \"NEGLIGIBLE\",\n",
      "                  \"blocked\": false\n",
      "                },\n",
      "                {\n",
      "                  \"category\": \"HARM_CATEGORY_DANGEROUS_CONTENT\",\n",
      "                  \"probability\": \"NEGLIGIBLE\",\n",
      "                  \"blocked\": false\n",
      "                }\n",
      "              ]\n",
      "            },\n",
      "            \"type\": \"ai\",\n",
      "            \"id\": \"run-a6a44ccd-f09a-442d-84d0-96bff7446b17-0\",\n",
      "            \"tool_calls\": [],\n",
      "            \"invalid_tool_calls\": []\n",
      "          }\n",
      "        }\n",
      "      }\n",
      "    ]\n",
      "  ],\n",
      "  \"llm_output\": {\n",
      "    \"prompt_feedback\": {\n",
      "      \"block_reason\": 0,\n",
      "      \"safety_ratings\": []\n",
      "    }\n",
      "  },\n",
      "  \"run\": null\n",
      "}\n"
     ]
    },
    {
     "data": {
      "text/plain": [
       "AIMessage(content='1. **경복궁:** 서울에 위치한 조선 왕조의 주요 궁전으로, 한국의 역사와 건축을 경험하기에 완벽한 곳입니다.\\n2. **제주도:** 화산섬인 제주도는 독특한 풍경, 해변, 화산 정상으로 유명합니다. 유네스코 세계 자연 유산으로 지정되었습니다.\\n3. **부산 해운대 해변:** 남한의 가장 큰 도시인 부산에 위치한 해운대 해변은 활기찬 해안가 분위기, 멋진 해변, 다양한 해산물 레스토랑을 갖추고 있습니다.', response_metadata={'prompt_feedback': {'block_reason': 0, 'safety_ratings': []}, 'finish_reason': 'STOP', 'safety_ratings': [{'category': 'HARM_CATEGORY_SEXUALLY_EXPLICIT', 'probability': 'NEGLIGIBLE', 'blocked': False}, {'category': 'HARM_CATEGORY_HATE_SPEECH', 'probability': 'NEGLIGIBLE', 'blocked': False}, {'category': 'HARM_CATEGORY_HARASSMENT', 'probability': 'NEGLIGIBLE', 'blocked': False}, {'category': 'HARM_CATEGORY_DANGEROUS_CONTENT', 'probability': 'NEGLIGIBLE', 'blocked': False}]}, id='run-a6a44ccd-f09a-442d-84d0-96bff7446b17-0')"
      ]
     },
     "execution_count": 2,
     "metadata": {},
     "output_type": "execute_result"
    }
   ],
   "source": [
    "from langchain_google_genai import ChatGoogleGenerativeAI\n",
    "\n",
    "llm = ChatGoogleGenerativeAI(model=\"gemini-pro\")\n",
    "llm.invoke(\"한국의 대표적인 관광지 3군데를 추천해주세요.\")"
   ]
  },
  {
   "cell_type": "markdown",
   "metadata": {},
   "source": [
    "### Chat Model"
   ]
  },
  {
   "cell_type": "code",
   "execution_count": 3,
   "metadata": {},
   "outputs": [
    {
     "name": "stdout",
     "output_type": "stream",
     "text": [
      "\u001b[32;1m\u001b[1;3m[chain/start]\u001b[0m \u001b[1m[chain:RunnableSequence] Entering Chain run with input:\n",
      "\u001b[0m{\n",
      "  \"user_input\": \"안녕하세요? 한국의 대표적인 관광지 3군데를 추천해주세요.\"\n",
      "}\n",
      "\u001b[32;1m\u001b[1;3m[chain/start]\u001b[0m \u001b[1m[chain:RunnableSequence > prompt:ChatPromptTemplate] Entering Prompt run with input:\n",
      "\u001b[0m{\n",
      "  \"user_input\": \"안녕하세요? 한국의 대표적인 관광지 3군데를 추천해주세요.\"\n",
      "}\n",
      "\u001b[36;1m\u001b[1;3m[chain/end]\u001b[0m \u001b[1m[chain:RunnableSequence > prompt:ChatPromptTemplate] [1ms] Exiting Prompt run with output:\n",
      "\u001b[0m[outputs]\n",
      "\u001b[32;1m\u001b[1;3m[llm/start]\u001b[0m \u001b[1m[chain:RunnableSequence > llm:ChatGoogleGenerativeAI] Entering LLM run with input:\n",
      "\u001b[0m{\n",
      "  \"prompts\": [\n",
      "    \"System: 이 시스템은 여행 전문가입니다.\\nHuman: 안녕하세요? 한국의 대표적인 관광지 3군데를 추천해주세요.\"\n",
      "  ]\n",
      "}\n",
      "\u001b[36;1m\u001b[1;3m[llm/end]\u001b[0m \u001b[1m[chain:RunnableSequence > llm:ChatGoogleGenerativeAI] [3.06s] Exiting LLM run with output:\n",
      "\u001b[0m{\n",
      "  \"generations\": [\n",
      "    [\n",
      "      {\n",
      "        \"text\": \"1. **경복궁:** 서울에 위치한 웅장한 조선 왕조 시대 궁전으로, 한국 역사와 문화를 경험하기에 좋은 곳입니다.\\n2. **제주도:** 남쪽 해안에 있는 화산섬으로, 화려한 자연 경관, 해변, 폭포로 유명합니다.\\n3. **부산 해운대 해수욕장:** 한국에서 가장 유명한 해변으로, 맑은 바다, 흰 모래, 다양한 수상 활동을 즐길 수 있습니다.\",\n",
      "        \"generation_info\": {\n",
      "          \"finish_reason\": \"STOP\",\n",
      "          \"safety_ratings\": [\n",
      "            {\n",
      "              \"category\": \"HARM_CATEGORY_SEXUALLY_EXPLICIT\",\n",
      "              \"probability\": \"NEGLIGIBLE\",\n",
      "              \"blocked\": false\n",
      "            },\n",
      "            {\n",
      "              \"category\": \"HARM_CATEGORY_HATE_SPEECH\",\n",
      "              \"probability\": \"NEGLIGIBLE\",\n",
      "              \"blocked\": false\n",
      "            },\n",
      "            {\n",
      "              \"category\": \"HARM_CATEGORY_HARASSMENT\",\n",
      "              \"probability\": \"NEGLIGIBLE\",\n",
      "              \"blocked\": false\n",
      "            },\n",
      "            {\n",
      "              \"category\": \"HARM_CATEGORY_DANGEROUS_CONTENT\",\n",
      "              \"probability\": \"NEGLIGIBLE\",\n",
      "              \"blocked\": false\n",
      "            }\n",
      "          ]\n",
      "        },\n",
      "        \"type\": \"ChatGeneration\",\n",
      "        \"message\": {\n",
      "          \"lc\": 1,\n",
      "          \"type\": \"constructor\",\n",
      "          \"id\": [\n",
      "            \"langchain\",\n",
      "            \"schema\",\n",
      "            \"messages\",\n",
      "            \"AIMessage\"\n",
      "          ],\n",
      "          \"kwargs\": {\n",
      "            \"content\": \"1. **경복궁:** 서울에 위치한 웅장한 조선 왕조 시대 궁전으로, 한국 역사와 문화를 경험하기에 좋은 곳입니다.\\n2. **제주도:** 남쪽 해안에 있는 화산섬으로, 화려한 자연 경관, 해변, 폭포로 유명합니다.\\n3. **부산 해운대 해수욕장:** 한국에서 가장 유명한 해변으로, 맑은 바다, 흰 모래, 다양한 수상 활동을 즐길 수 있습니다.\",\n",
      "            \"response_metadata\": {\n",
      "              \"prompt_feedback\": {\n",
      "                \"block_reason\": 0,\n",
      "                \"safety_ratings\": []\n",
      "              },\n",
      "              \"finish_reason\": \"STOP\",\n",
      "              \"safety_ratings\": [\n",
      "                {\n",
      "                  \"category\": \"HARM_CATEGORY_SEXUALLY_EXPLICIT\",\n",
      "                  \"probability\": \"NEGLIGIBLE\",\n",
      "                  \"blocked\": false\n",
      "                },\n",
      "                {\n",
      "                  \"category\": \"HARM_CATEGORY_HATE_SPEECH\",\n",
      "                  \"probability\": \"NEGLIGIBLE\",\n",
      "                  \"blocked\": false\n",
      "                },\n",
      "                {\n",
      "                  \"category\": \"HARM_CATEGORY_HARASSMENT\",\n",
      "                  \"probability\": \"NEGLIGIBLE\",\n",
      "                  \"blocked\": false\n",
      "                },\n",
      "                {\n",
      "                  \"category\": \"HARM_CATEGORY_DANGEROUS_CONTENT\",\n",
      "                  \"probability\": \"NEGLIGIBLE\",\n",
      "                  \"blocked\": false\n",
      "                }\n",
      "              ]\n",
      "            },\n",
      "            \"type\": \"ai\",\n",
      "            \"id\": \"run-69ba5492-25c4-49dc-87c1-f72c2caa3c02-0\",\n",
      "            \"tool_calls\": [],\n",
      "            \"invalid_tool_calls\": []\n",
      "          }\n",
      "        }\n",
      "      }\n",
      "    ]\n",
      "  ],\n",
      "  \"llm_output\": {\n",
      "    \"prompt_feedback\": {\n",
      "      \"block_reason\": 0,\n",
      "      \"safety_ratings\": []\n",
      "    }\n",
      "  },\n",
      "  \"run\": null\n",
      "}\n",
      "\u001b[36;1m\u001b[1;3m[chain/end]\u001b[0m \u001b[1m[chain:RunnableSequence] [3.06s] Exiting Chain run with output:\n",
      "\u001b[0m[outputs]\n"
     ]
    },
    {
     "data": {
      "text/plain": [
       "AIMessage(content='1. **경복궁:** 서울에 위치한 웅장한 조선 왕조 시대 궁전으로, 한국 역사와 문화를 경험하기에 좋은 곳입니다.\\n2. **제주도:** 남쪽 해안에 있는 화산섬으로, 화려한 자연 경관, 해변, 폭포로 유명합니다.\\n3. **부산 해운대 해수욕장:** 한국에서 가장 유명한 해변으로, 맑은 바다, 흰 모래, 다양한 수상 활동을 즐길 수 있습니다.', response_metadata={'prompt_feedback': {'block_reason': 0, 'safety_ratings': []}, 'finish_reason': 'STOP', 'safety_ratings': [{'category': 'HARM_CATEGORY_SEXUALLY_EXPLICIT', 'probability': 'NEGLIGIBLE', 'blocked': False}, {'category': 'HARM_CATEGORY_HATE_SPEECH', 'probability': 'NEGLIGIBLE', 'blocked': False}, {'category': 'HARM_CATEGORY_HARASSMENT', 'probability': 'NEGLIGIBLE', 'blocked': False}, {'category': 'HARM_CATEGORY_DANGEROUS_CONTENT', 'probability': 'NEGLIGIBLE', 'blocked': False}]}, id='run-69ba5492-25c4-49dc-87c1-f72c2caa3c02-0')"
      ]
     },
     "execution_count": 3,
     "metadata": {},
     "output_type": "execute_result"
    }
   ],
   "source": [
    "from langchain_core.prompts import ChatPromptTemplate\n",
    "from langchain_core.prompts import SystemMessagePromptTemplate, HumanMessagePromptTemplate\n",
    "\n",
    "llm = ChatGoogleGenerativeAI(model=\"gemini-pro\")\n",
    "chat_prompt = ChatPromptTemplate.from_messages([\n",
    "    SystemMessagePromptTemplate.from_template(\"이 시스템은 여행 전문가입니다.\"),\n",
    "    HumanMessagePromptTemplate.from_template(\"{user_input}\"),\n",
    "])\n",
    "\n",
    "chain = chat_prompt | llm\n",
    "chain.invoke({\"user_input\": \"안녕하세요? 한국의 대표적인 관광지 3군데를 추천해주세요.\"})"
   ]
  },
  {
   "cell_type": "markdown",
   "metadata": {},
   "source": [
    "## LLM 모델 파라미터 설정"
   ]
  },
  {
   "cell_type": "markdown",
   "metadata": {},
   "source": [
    "### LLM 모델에 직접 파라미터를 전달"
   ]
  },
  {
   "cell_type": "code",
   "execution_count": 5,
   "metadata": {},
   "outputs": [
    {
     "data": {
      "text/plain": [
       "ChatGoogleGenerativeAI(model='gemini-pro', client=genai.GenerativeModel(\n",
       "    model_name='models/gemini-pro',\n",
       "    generation_config={},\n",
       "    safety_settings={},\n",
       "    tools=None,\n",
       "    system_instruction=None,\n",
       "))"
      ]
     },
     "execution_count": 5,
     "metadata": {},
     "output_type": "execute_result"
    }
   ],
   "source": [
    "# 모델 파라미터 설정\n",
    "params = {\n",
    "    \"temperature\": 0.7,         # 생성된 텍스트의 다양성 조정\n",
    "    \"max_tokens\": 100,          # 생성할 최대 토큰 수    \n",
    "}\n",
    "\n",
    "kwargs = {\n",
    "    \"frequency_penalty\": 0.5,   # 이미 등장한 단어의 재등장 확률\n",
    "    \"presence_penalty\": 0.5,    # 새로운 단어의 도입을 장려\n",
    "    \"stop\": [\"\\n\"]              # 정지 시퀀스 설정\n",
    "\n",
    "}\n",
    "\n",
    "# 모델 인스턴스를 생성할 때 설정\n",
    "model = ChatGoogleGenerativeAI(model=\"gemini-pro\", **params, model_kwargs=kwargs)\n",
    "model"
   ]
  },
  {
   "cell_type": "code",
   "execution_count": 6,
   "metadata": {},
   "outputs": [
    {
     "name": "stdout",
     "output_type": "stream",
     "text": [
      "\u001b[32;1m\u001b[1;3m[llm/start]\u001b[0m \u001b[1m[llm:ChatGoogleGenerativeAI] Entering LLM run with input:\n",
      "\u001b[0m{\n",
      "  \"prompts\": [\n",
      "    \"Human: 태양계에서 가장 큰 행성은 무엇인가요?\"\n",
      "  ]\n",
      "}\n",
      "\u001b[36;1m\u001b[1;3m[llm/end]\u001b[0m \u001b[1m[llm:ChatGoogleGenerativeAI] [1.90s] Exiting LLM run with output:\n",
      "\u001b[0m{\n",
      "  \"generations\": [\n",
      "    [\n",
      "      {\n",
      "        \"text\": \"목성\",\n",
      "        \"generation_info\": {\n",
      "          \"finish_reason\": \"STOP\",\n",
      "          \"safety_ratings\": [\n",
      "            {\n",
      "              \"category\": \"HARM_CATEGORY_SEXUALLY_EXPLICIT\",\n",
      "              \"probability\": \"NEGLIGIBLE\",\n",
      "              \"blocked\": false\n",
      "            },\n",
      "            {\n",
      "              \"category\": \"HARM_CATEGORY_HATE_SPEECH\",\n",
      "              \"probability\": \"NEGLIGIBLE\",\n",
      "              \"blocked\": false\n",
      "            },\n",
      "            {\n",
      "              \"category\": \"HARM_CATEGORY_HARASSMENT\",\n",
      "              \"probability\": \"NEGLIGIBLE\",\n",
      "              \"blocked\": false\n",
      "            },\n",
      "            {\n",
      "              \"category\": \"HARM_CATEGORY_DANGEROUS_CONTENT\",\n",
      "              \"probability\": \"NEGLIGIBLE\",\n",
      "              \"blocked\": false\n",
      "            }\n",
      "          ]\n",
      "        },\n",
      "        \"type\": \"ChatGeneration\",\n",
      "        \"message\": {\n",
      "          \"lc\": 1,\n",
      "          \"type\": \"constructor\",\n",
      "          \"id\": [\n",
      "            \"langchain\",\n",
      "            \"schema\",\n",
      "            \"messages\",\n",
      "            \"AIMessage\"\n",
      "          ],\n",
      "          \"kwargs\": {\n",
      "            \"content\": \"목성\",\n",
      "            \"response_metadata\": {\n",
      "              \"prompt_feedback\": {\n",
      "                \"block_reason\": 0,\n",
      "                \"safety_ratings\": []\n",
      "              },\n",
      "              \"finish_reason\": \"STOP\",\n",
      "              \"safety_ratings\": [\n",
      "                {\n",
      "                  \"category\": \"HARM_CATEGORY_SEXUALLY_EXPLICIT\",\n",
      "                  \"probability\": \"NEGLIGIBLE\",\n",
      "                  \"blocked\": false\n",
      "                },\n",
      "                {\n",
      "                  \"category\": \"HARM_CATEGORY_HATE_SPEECH\",\n",
      "                  \"probability\": \"NEGLIGIBLE\",\n",
      "                  \"blocked\": false\n",
      "                },\n",
      "                {\n",
      "                  \"category\": \"HARM_CATEGORY_HARASSMENT\",\n",
      "                  \"probability\": \"NEGLIGIBLE\",\n",
      "                  \"blocked\": false\n",
      "                },\n",
      "                {\n",
      "                  \"category\": \"HARM_CATEGORY_DANGEROUS_CONTENT\",\n",
      "                  \"probability\": \"NEGLIGIBLE\",\n",
      "                  \"blocked\": false\n",
      "                }\n",
      "              ]\n",
      "            },\n",
      "            \"type\": \"ai\",\n",
      "            \"id\": \"run-e0128242-b227-4e12-8208-db01eebeee39-0\",\n",
      "            \"tool_calls\": [],\n",
      "            \"invalid_tool_calls\": []\n",
      "          }\n",
      "        }\n",
      "      }\n",
      "    ]\n",
      "  ],\n",
      "  \"llm_output\": {\n",
      "    \"prompt_feedback\": {\n",
      "      \"block_reason\": 0,\n",
      "      \"safety_ratings\": []\n",
      "    }\n",
      "  },\n",
      "  \"run\": null\n",
      "}\n"
     ]
    },
    {
     "data": {
      "text/plain": [
       "AIMessage(content='목성', response_metadata={'prompt_feedback': {'block_reason': 0, 'safety_ratings': []}, 'finish_reason': 'STOP', 'safety_ratings': [{'category': 'HARM_CATEGORY_SEXUALLY_EXPLICIT', 'probability': 'NEGLIGIBLE', 'blocked': False}, {'category': 'HARM_CATEGORY_HATE_SPEECH', 'probability': 'NEGLIGIBLE', 'blocked': False}, {'category': 'HARM_CATEGORY_HARASSMENT', 'probability': 'NEGLIGIBLE', 'blocked': False}, {'category': 'HARM_CATEGORY_DANGEROUS_CONTENT', 'probability': 'NEGLIGIBLE', 'blocked': False}]}, id='run-e0128242-b227-4e12-8208-db01eebeee39-0')"
      ]
     },
     "execution_count": 6,
     "metadata": {},
     "output_type": "execute_result"
    }
   ],
   "source": [
    "model.invoke(input=\"태양계에서 가장 큰 행성은 무엇인가요?\")"
   ]
  },
  {
   "cell_type": "markdown",
   "metadata": {},
   "source": [
    "### 모델 호출 단계에 전달"
   ]
  },
  {
   "cell_type": "code",
   "execution_count": null,
   "metadata": {},
   "outputs": [],
   "source": [
    "params = {\n",
    "    \"temperature\": 0.7,         # 생성된 텍스트의 다양성 조정\n",
    "    \"max_tokens\": 10,          # 생성할 최대 토큰 수    \n",
    "}\n",
    "\n",
    "# Open AI 모델은 가능한 것 같다\n",
    "response = model.invoke(input=\"태양계에서 가장 큰 행성은 무엇인가요?\", **params)\n",
    "\n",
    "response.content"
   ]
  },
  {
   "cell_type": "markdown",
   "metadata": {},
   "source": [
    "### 파라미터 바인딩"
   ]
  },
  {
   "cell_type": "code",
   "execution_count": null,
   "metadata": {},
   "outputs": [],
   "source": [
    "prompt = ChatPromptTemplate.from_messages([\n",
    "    (\"system\", \"이 시스템은 천문학 질문에 답변할 수 있습니다.\"),\n",
    "    (\"user\", \"{user_input}\"),\n",
    "])\n",
    "\n",
    "# ChatGoogleGenerativeAI(model=\"gemini-pro\", max_tokens=100)와 동일한 효과\n",
    "model = ChatGoogleGenerativeAI(model=\"gemini-pro\")\n",
    "chain = prompt | model.bind(max_tokens=10) # Open AI 모델에서 사용\n",
    "chain.invoke({\"user_input\": \"태양계에서 가장 큰 행성은 무엇인가요?\"})"
   ]
  },
  {
   "cell_type": "code",
   "execution_count": null,
   "metadata": {},
   "outputs": [],
   "source": []
  }
 ],
 "metadata": {
  "kernelspec": {
   "display_name": "kaggle",
   "language": "python",
   "name": "python3"
  },
  "language_info": {
   "codemirror_mode": {
    "name": "ipython",
    "version": 3
   },
   "file_extension": ".py",
   "mimetype": "text/x-python",
   "name": "python",
   "nbconvert_exporter": "python",
   "pygments_lexer": "ipython3",
   "version": "3.11.9"
  }
 },
 "nbformat": 4,
 "nbformat_minor": 2
}
