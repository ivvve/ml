{
 "cells": [
  {
   "cell_type": "markdown",
   "metadata": {},
   "source": [
    "# Multi classification - 다중 분류\n",
    "\n",
    "둘 중 하나를 고르는 binary classification(이항 분류)과는 달리  \n",
    "multi classification(다중 분류)은 여러 개 중에 어떤 것이 답인지를 예측한다.\n",
    "\n",
    "붓꽃 데이터의 정보를 통해 어떤 품종인지 알아보는 예제를 통해 다중 분류를 알아본다."
   ]
  },
  {
   "cell_type": "code",
   "execution_count": null,
   "metadata": {},
   "outputs": [],
   "source": [
    "# 붓꽃 품종 분류 데이터\n",
    "# !git clone https: // github.com / taehojo / data.git\n",
    "\n",
    "# 데이터 확인\n",
    "import pandas as pd\n",
    "\n",
    "df = pd.read_csv(\"./data/iris3.csv\")\n",
    "df.head(10)"
   ]
  },
  {
   "cell_type": "code",
   "execution_count": null,
   "metadata": {},
   "outputs": [],
   "source": [
    "# 데이터 상관도 확인\n",
    "import seaborn as sns\n",
    "import matplotlib.pyplot as plt\n",
    "\n",
    "sns.pairplot(df, hue=\"species\")  # 특정 컬럼을 중심으로 그래프를 그릴지 정한다\n",
    "plt.figure(figsize=(10, 6))  # graph size 설정\n",
    "plt.show()  "
   ]
  },
  {
   "cell_type": "code",
   "execution_count": null,
   "metadata": {},
   "outputs": [],
   "source": [
    "# one-hot encoding\n",
    "X = df.iloc[:, 0:4]\n",
    "\n",
    "# 여러개의 결과값을 0과 1로 이뤄진 형태로 만들어주는 과정이 필요하다\n",
    "y = df.iloc[:, 4]\n",
    "y = pd.get_dummies(y)  # one-hot encoding\n",
    "\n",
    "y.head()"
   ]
  },
  {
   "cell_type": "code",
   "execution_count": null,
   "metadata": {},
   "outputs": [],
   "source": [
    "# 다중분류 모델\n",
    "from tensorflow.keras.models import Sequential\n",
    "from tensorflow.keras.layers import Dense\n",
    "\n",
    "# 모델 설정\n",
    "model = Sequential()\n",
    "model.add(Dense(12, input_dim=4, activation=\"relu\"))\n",
    "model.add(Dense(8, activation=\"relu\"))\n",
    "model.add(Dense(3, activation=\"softmax\"))  # 붓꽃 품종 세가지에 대한 확률을 구해야하므로 sigmoid가 아닌 softmax를 사용한다\n",
    "model.summary()\n",
    "print(\"---------\")\n",
    "\n",
    "# 모델 컴파일 및 실행\n",
    "model.compile(\n",
    "    loss=\"categorical_crossentropy\",  # multi classification을 위해 categorical_crossentropy loss function 사용\n",
    "    optimizer=\"adam\",\n",
    "    metrics=[\"accuracy\"],\n",
    ")\n",
    "model.fit(X, y, epochs=50, batch_size=5)"
   ]
  }
 ],
 "metadata": {
  "language_info": {
   "name": "python"
  }
 },
 "nbformat": 4,
 "nbformat_minor": 2
}
