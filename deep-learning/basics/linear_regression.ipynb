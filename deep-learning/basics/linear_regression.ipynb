{
 "cells": [
  {
   "cell_type": "markdown",
   "metadata": {},
   "source": [
    "# Linear Regression"
   ]
  },
  {
   "cell_type": "markdown",
   "metadata": {},
   "source": [
    "## Simple Linear Regression"
   ]
  },
  {
   "cell_type": "code",
   "execution_count": null,
   "metadata": {},
   "outputs": [],
   "source": [
    "import numpy as np\n",
    "import matplotlib.pyplot as plt\n",
    "\n",
    "x = np.array([2, 4, 6, 8])  # study hour\n",
    "y = np.array([81, 93, 91, 97])  # score\n",
    "\n",
    "plt.scatter(x, y)\n",
    "plt.show()"
   ]
  },
  {
   "cell_type": "code",
   "execution_count": null,
   "metadata": {},
   "outputs": [],
   "source": [
    "from tensorflow.keras.models import Sequential\n",
    "from tensorflow.keras.layers import Dense\n",
    "\n",
    "model = Sequential()\n",
    "model.add(Dense(1, input_dim=1, activation='linear'))  # first param of Dense is output dimension\n",
    "model.compile(optimizer='sgd', loss='mse')  # optimizer is Stochastic Gradient Descent, loss function is MSE(Mean Squared Error)\n",
    "model.fit(x, y, epochs=2_000)\n",
    "\n",
    "plt.scatter(x, y)\n",
    "plt.plot(x, model.predict(x), 'r')\n",
    "plt.show()"
   ]
  },
  {
   "cell_type": "code",
   "execution_count": null,
   "metadata": {},
   "outputs": [],
   "source": [
    "study_hour = 7\n",
    "prediction = model.predict([study_hour])\n",
    "print(f\"If study time is '{study_hour}', then score might be '{prediction[0][0]}'.\")"
   ]
  },
  {
   "cell_type": "markdown",
   "metadata": {},
   "source": [
    "## Multiple Linear Regression"
   ]
  },
  {
   "cell_type": "code",
   "execution_count": null,
   "metadata": {},
   "outputs": [],
   "source": [
    "import numpy as np\n",
    "import matplotlib.pyplot as plt\n",
    "\n",
    "from tensorflow.keras.models import Sequential\n",
    "from tensorflow.keras.layers import Dense\n",
    "\n",
    "x = np.array([[2, 0], [4, 4], [6, 2], [8, 3]])  # study hour, private class hour\n",
    "y = np.array([81, 93, 91, 97])  # score\n",
    "\n",
    "model = Sequential()\n",
    "model.add(Dense(units=1, input_dim=2, activation='linear'))\n",
    "model.compile(optimizer='sgd', loss='mse')\n",
    "model.fit(x, y, epochs=2_000)"
   ]
  },
  {
   "cell_type": "code",
   "execution_count": null,
   "metadata": {},
   "outputs": [],
   "source": [
    "study_hour = 7\n",
    "private_class_hour = 4\n",
    "prediction = model.predict([[study_hour, private_class_hour]])\n",
    "\n",
    "print(f\"If study hour is '{study_hour}' and private class hour is '{private_class_hour}', then score might be '{prediction[0][0]}'\")"
   ]
  }
 ],
 "metadata": {
  "language_info": {
   "name": "python"
  }
 },
 "nbformat": 4,
 "nbformat_minor": 2
}
