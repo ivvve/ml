{
 "cells": [
  {
   "cell_type": "markdown",
   "metadata": {},
   "source": [
    "# Logistic Regression"
   ]
  },
  {
   "cell_type": "code",
   "execution_count": null,
   "metadata": {},
   "outputs": [],
   "source": [
    "import numpy as np\n",
    "import matplotlib.pyplot as plt\n",
    "from tensorflow.keras.models import Sequential\n",
    "from tensorflow.keras.layers import Dense\n",
    "\n",
    "x = np.array([2, 4, 6, 8, 10, 12, 14])  # study hour\n",
    "y = np.array([0, 0, 0, 1, 1, 1, 1])  # is pass the test\n",
    "\n",
    "model = Sequential()\n",
    "model.add(Dense(units=1, input_dim=1, activation='sigmoid'))\n",
    "model.compile(optimizer='sgd', loss='binary_crossentropy')\n",
    "model.fit(x, y, epochs=5_000)"
   ]
  },
  {
   "cell_type": "code",
   "execution_count": null,
   "metadata": {},
   "outputs": [],
   "source": [
    "plt.scatter(x, y)\n",
    "plt.plot(x, model.predict(x), 'r')\n",
    "plt.show()\n",
    "\n",
    "study_hour = 7\n",
    "prediction = model.predict([study_hour])\n",
    "print(f\"When you study {study_hour} hours, your possibility is {prediction[0][0]}%\")"
   ]
  }
 ],
 "metadata": {
  "language_info": {
   "name": "python"
  }
 },
 "nbformat": 4,
 "nbformat_minor": 2
}
