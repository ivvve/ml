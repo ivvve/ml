{
 "cells": [
  {
   "cell_type": "code",
   "execution_count": 11,
   "metadata": {},
   "outputs": [],
   "source": [
    "import torch\n",
    "import torchvision\n",
    "import numpy as np\n",
    "import random\n",
    "import os"
   ]
  },
  {
   "cell_type": "markdown",
   "metadata": {},
   "source": [
    "# 데이터 준비"
   ]
  },
  {
   "cell_type": "code",
   "execution_count": 12,
   "metadata": {},
   "outputs": [
    {
     "data": {
      "text/plain": [
       "(15750, 1750)"
      ]
     },
     "execution_count": 12,
     "metadata": {},
     "output_type": "execute_result"
    }
   ],
   "source": [
    "import pandas as pd\n",
    "from sklearn.model_selection import train_test_split\n",
    "\n",
    "label_df = pd.read_csv(\"./data/train.csv\")\n",
    "\n",
    "train_label_df, valid_label_df = train_test_split(label_df, test_size=0.1, stratify=label_df[\"has_cactus\"], random_state=42)\n",
    "\n",
    "len(train_label_df), len(valid_label_df)"
   ]
  },
  {
   "cell_type": "code",
   "execution_count": 13,
   "metadata": {},
   "outputs": [],
   "source": [
    "import cv2\n",
    "import torch.utils\n",
    "\n",
    "class ImageDataset(torch.utils.data.Dataset):\n",
    "    def __init__(self, label_df, image_dir, transform):\n",
    "        super(ImageDataset, self).__init__()\n",
    "\n",
    "        self.label_df = label_df\n",
    "        self.image_dir = image_dir\n",
    "        self.transform = transform\n",
    "\n",
    "    def __len__(self):\n",
    "        return len(self.label_df)\n",
    "    \n",
    "    def __getitem__(self, idx):\n",
    "        image_file_name = self.label_df.iloc[idx, 0] # id: 파일명\n",
    "        image_file_path = f\"{self.image_dir}/{image_file_name}\"\n",
    "        image = cv2.imread(image_file_path)\n",
    "        image = cv2.cvtColor(image, cv2.COLOR_BGR2RGB)\n",
    "        if self.transform:\n",
    "            image = self.transform(image)\n",
    "        \n",
    "        label = self.label_df.iloc[idx, 1] # has_cactus\n",
    "\n",
    "        return image, label\n",
    "    \n",
    "transform = torchvision.transforms.ToTensor()\n",
    "\n",
    "train_dataset = ImageDataset(label_df=train_label_df, image_dir=\"./data/train\", transform=transform)\n",
    "valid_dataset = ImageDataset(label_df=valid_label_df, image_dir=\"./data/train\", transform=transform)\n",
    "\n",
    "train_data_loader = torch.utils.data.DataLoader(dataset=train_dataset, batch_size=32, shuffle=True)\n",
    "valid_data_loader = torch.utils.data.DataLoader(dataset=valid_dataset, batch_size=32, shuffle=True)"
   ]
  },
  {
   "cell_type": "markdown",
   "metadata": {},
   "source": [
    "## Baseline Model"
   ]
  },
  {
   "cell_type": "code",
   "execution_count": 14,
   "metadata": {},
   "outputs": [
    {
     "data": {
      "text/plain": [
       "Model(\n",
       "  (layer_1): Sequential(\n",
       "    (0): Conv2d(3, 32, kernel_size=(3, 3), stride=(1, 1), padding=(2, 2))\n",
       "    (1): ReLU()\n",
       "    (2): MaxPool2d(kernel_size=2, stride=2, padding=0, dilation=1, ceil_mode=False)\n",
       "  )\n",
       "  (layer_2): Sequential(\n",
       "    (0): Conv2d(32, 64, kernel_size=(3, 3), stride=(1, 1), padding=(2, 2))\n",
       "    (1): ReLU()\n",
       "    (2): MaxPool2d(kernel_size=2, stride=2, padding=0, dilation=1, ceil_mode=False)\n",
       "  )\n",
       "  (avg_pool): AvgPool2d(kernel_size=2, stride=2, padding=0)\n",
       "  (fc): Linear(in_features=1024, out_features=2, bias=True)\n",
       ")"
      ]
     },
     "execution_count": 14,
     "metadata": {},
     "output_type": "execute_result"
    }
   ],
   "source": [
    "import torch.nn as nn\n",
    "\n",
    "class Model(nn.Module):\n",
    "    def __init__(self):\n",
    "        super(Model, self).__init__()\n",
    "\n",
    "        self.layer_1 = nn.Sequential(nn.Conv2d(in_channels=3, out_channels=32, \n",
    "                                               kernel_size=3, padding=2),\n",
    "                                     nn.ReLU(),\n",
    "                                     nn.MaxPool2d(kernel_size=2))\n",
    "\n",
    "        self.layer_2 = nn.Sequential(nn.Conv2d(in_channels=32, out_channels=64,\n",
    "                                               kernel_size=3, padding=2),\n",
    "                                     nn.ReLU(),\n",
    "                                     nn.MaxPool2d(kernel_size=2))\n",
    "        \n",
    "        self.avg_pool = nn.AvgPool2d(kernel_size=2)\n",
    "\n",
    "        self.fc = nn.Linear(in_features=64*4*4, out_features=2)\n",
    "\n",
    "    def forward(self, x):\n",
    "        # x: 32x32 3\n",
    "        x = self.layer_1(x) # 17x17 32\n",
    "        x = self.layer_2(x) # 9x9 64\n",
    "        x = self.avg_pool(x) # 4x4 64\n",
    "        x = x.view(-1, 64*4*4) # flatten\n",
    "        x = self.fc(x)\n",
    "        return x\n",
    "\n",
    "model = Model()\n",
    "model"
   ]
  },
  {
   "cell_type": "markdown",
   "metadata": {},
   "source": [
    "# Train"
   ]
  },
  {
   "cell_type": "code",
   "execution_count": 23,
   "metadata": {},
   "outputs": [
    {
     "name": "stdout",
     "output_type": "stream",
     "text": [
      "Epoch [1/10] - loss: 0.1455\n",
      "Epoch [2/10] - loss: 0.1329\n",
      "Epoch [3/10] - loss: 0.1096\n",
      "Epoch [4/10] - loss: 0.0992\n",
      "Epoch [5/10] - loss: 0.0902\n",
      "Epoch [6/10] - loss: 0.0816\n",
      "Epoch [7/10] - loss: 0.0824\n",
      "Epoch [8/10] - loss: 0.0774\n",
      "Epoch [9/10] - loss: 0.0689\n",
      "Epoch [10/10] - loss: 0.0724\n"
     ]
    }
   ],
   "source": [
    "criterion = nn.CrossEntropyLoss()\n",
    "optimizer = torch.optim.Adam(model.parameters(), lr=0.01)\n",
    "\n",
    "epochs = 10\n",
    "\n",
    "for epoch in range(epochs):\n",
    "    epoch_loss = 0\n",
    "\n",
    "    for images, labels in train_data_loader:\n",
    "        optimizer.zero_grad()\n",
    "        \n",
    "        # forward\n",
    "        outputs = model(images)\n",
    "        loss = criterion(outputs, labels)\n",
    "\n",
    "        # backward\n",
    "        epoch_loss += loss.item()\n",
    "        loss.backward()\n",
    "\n",
    "        optimizer.step()\n",
    "    \n",
    "    print(f\"Epoch [{epoch+1}/{epochs}] - loss: {epoch_loss/len(train_data_loader):.4f}\")"
   ]
  },
  {
   "cell_type": "markdown",
   "metadata": {},
   "source": [
    "# Evaluate"
   ]
  },
  {
   "cell_type": "code",
   "execution_count": 24,
   "metadata": {},
   "outputs": [
    {
     "name": "stdout",
     "output_type": "stream",
     "text": [
      "ROC AUC: 0.9921\n"
     ]
    }
   ],
   "source": [
    "from sklearn.metrics import roc_auc_score\n",
    "\n",
    "true_list = [] # 실제값\n",
    "preds_list = [] # 예측값\n",
    "\n",
    "model.eval() # 평가 상태로 변경\n",
    "\n",
    "with torch.no_grad(): # 기울기 계산 비활성화\n",
    "    for images, labels in valid_data_loader:\n",
    "        outputs = model(images)\n",
    "        preds = torch.softmax(outputs, dim=1)[:, 1] # 선인장이 포함될 확률을 가져온다\n",
    "        true = labels\n",
    "\n",
    "        preds_list.extend(preds)\n",
    "        true_list.extend(true)\n",
    "\n",
    "print(f\"ROC AUC: {roc_auc_score(true_list, preds_list):.4f}\")"
   ]
  },
  {
   "cell_type": "markdown",
   "metadata": {},
   "source": [
    "# Submission"
   ]
  },
  {
   "cell_type": "code",
   "execution_count": 39,
   "metadata": {},
   "outputs": [],
   "source": [
    "submission_df = pd.read_csv(\"./data/sample_submission.csv\")\n",
    "test_dataset = ImageDataset(label_df=submission_df, image_dir=\"./data/test\", transform=transform)\n",
    "# shuffle=False 주의!\n",
    "test_data_loader = torch.utils.data.DataLoader(dataset=test_dataset, batch_size=32, shuffle=False)"
   ]
  },
  {
   "cell_type": "code",
   "execution_count": 40,
   "metadata": {},
   "outputs": [
    {
     "data": {
      "text/plain": [
       "[0.9892098307609558,\n",
       " 0.9999980926513672,\n",
       " 0.023401642218232155,\n",
       " 0.026309529319405556,\n",
       " 0.8063020706176758]"
      ]
     },
     "execution_count": 40,
     "metadata": {},
     "output_type": "execute_result"
    }
   ],
   "source": [
    "preds_list = []\n",
    "\n",
    "model.eval() # 평가 상태로 변경\n",
    "\n",
    "with torch.no_grad(): # 기울기 계산 비활성화\n",
    "    for images, _labels in test_data_loader:\n",
    "        outputs = model(images)\n",
    "        preds = torch.softmax(outputs, dim=1)[:, 1].tolist() # 선인장이 포함될 확률을 가져온다\n",
    "        preds_list.extend(preds)\n",
    "\n",
    "preds_list[:5]"
   ]
  },
  {
   "cell_type": "code",
   "execution_count": 42,
   "metadata": {},
   "outputs": [],
   "source": [
    "submission_df[\"has_cactus\"] = preds_list\n",
    "submission_df.to_csv(\"./data/baseline_submission.csv\", index=False)"
   ]
  },
  {
   "cell_type": "code",
   "execution_count": null,
   "metadata": {},
   "outputs": [],
   "source": []
  }
 ],
 "metadata": {
  "kernelspec": {
   "display_name": "base",
   "language": "python",
   "name": "python3"
  },
  "language_info": {
   "codemirror_mode": {
    "name": "ipython",
    "version": 3
   },
   "file_extension": ".py",
   "mimetype": "text/x-python",
   "name": "python",
   "nbconvert_exporter": "python",
   "pygments_lexer": "ipython3",
   "version": "3.11.5"
  }
 },
 "nbformat": 4,
 "nbformat_minor": 2
}
