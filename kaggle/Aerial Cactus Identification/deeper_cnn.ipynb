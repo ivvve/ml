{
 "cells": [
  {
   "cell_type": "code",
   "execution_count": 20,
   "metadata": {},
   "outputs": [],
   "source": [
    "import torch\n",
    "import torchvision\n",
    "import numpy as np\n",
    "import random\n",
    "import os"
   ]
  },
  {
   "cell_type": "code",
   "execution_count": 31,
   "metadata": {},
   "outputs": [],
   "source": [
    "import pandas as pd\n",
    "from sklearn.model_selection import train_test_split\n",
    "\n",
    "label_df = pd.read_csv(\"./data/train.csv\")\n",
    "train_label_df, valid_label_df = train_test_split(label_df, test_size=0.1, stratify=label_df[\"has_cactus\"], random_state=42)\n",
    "\n",
    "submission_df = pd.read_csv(\"./data/sample_submission.csv\")"
   ]
  },
  {
   "cell_type": "markdown",
   "metadata": {},
   "source": [
    "# Data Augmentation"
   ]
  },
  {
   "cell_type": "code",
   "execution_count": 32,
   "metadata": {},
   "outputs": [],
   "source": [
    "from torchvision import transforms\n",
    "\n",
    "# 훈련 용 데이터 변환기\n",
    "transform_train = transforms.Compose([\n",
    "    transforms.ToTensor(),\n",
    "    # 원본 이미지에 대칭이되는 32 두께의 이미지를 8개 방향으로 추가 (원본의 3배가 됨)\n",
    "    # 선인장이 더 추가된 꼴\n",
    "    transforms.Pad(32, padding_mode=\"symmetric\"),\n",
    "    # 무작위로 좌우 대칭 변환\n",
    "    transforms.RandomHorizontalFlip(),\n",
    "    # 무작위로 상하 대칭 변환\n",
    "    transforms.RandomVerticalFlip(),\n",
    "    # 데이터의 지정한 평균과 분산에 맞게 정규화 : 평균(R, G, B), 분산(R, G, B)\n",
    "    transforms.Normalize((0.485, 0.456, 0.406), # <- ImageNet에서 나온 결과\n",
    "                         (0.229, 0.224, 0.225))\n",
    "])\n",
    "\n",
    "# 검증 및 테스트 용 데이터 변환기\n",
    "transform_test = transforms.Compose([\n",
    "    transforms.ToTensor(),\n",
    "    transforms.Pad(32, padding_mode=\"symmetric\"),\n",
    "    transforms.Normalize((0.485, 0.456, 0.406),\n",
    "                         (0.229, 0.224, 0.225))\n",
    "])"
   ]
  },
  {
   "cell_type": "code",
   "execution_count": 33,
   "metadata": {},
   "outputs": [],
   "source": [
    "import cv2\n",
    "import torch.utils\n",
    "\n",
    "class ImageDataset(torch.utils.data.Dataset):\n",
    "    def __init__(self, label_df, image_dir, transform):\n",
    "        super(ImageDataset, self).__init__()\n",
    "\n",
    "        self.label_df = label_df\n",
    "        self.image_dir = image_dir\n",
    "        self.transform = transform\n",
    "\n",
    "    def __len__(self):\n",
    "        return len(self.label_df)\n",
    "    \n",
    "    def __getitem__(self, idx):\n",
    "        image_file_name = self.label_df.iloc[idx, 0] # id: 파일명\n",
    "        image_file_path = f\"{self.image_dir}/{image_file_name}\"\n",
    "        image = cv2.imread(image_file_path)\n",
    "        image = cv2.cvtColor(image, cv2.COLOR_BGR2RGB)\n",
    "        if self.transform:\n",
    "            image = self.transform(image)\n",
    "        \n",
    "        label = self.label_df.iloc[idx, 1] # has_cactus\n",
    "\n",
    "        return image, label\n",
    "\n",
    "train_dataset = ImageDataset(label_df=train_label_df, image_dir=\"./data/train\", transform=transform_train)\n",
    "valid_dataset = ImageDataset(label_df=valid_label_df, image_dir=\"./data/train\", transform=transform_test)\n",
    "\n",
    "train_data_loader = torch.utils.data.DataLoader(dataset=train_dataset, batch_size=32, shuffle=True)\n",
    "valid_data_loader = torch.utils.data.DataLoader(dataset=valid_dataset, batch_size=32, shuffle=False)"
   ]
  },
  {
   "cell_type": "markdown",
   "metadata": {},
   "source": [
    "# Model"
   ]
  },
  {
   "cell_type": "code",
   "execution_count": 24,
   "metadata": {},
   "outputs": [],
   "source": [
    "import torch.nn as nn\n",
    "\n",
    "class Model(nn.Module):\n",
    "    def __init__(self):\n",
    "        super(Model, self).__init__()\n",
    "\n",
    "        self.layer_1 = nn.Sequential(nn.Conv2d(in_channels=3, out_channels=32,\n",
    "                                            kernel_size=3, padding=2),\n",
    "                                    nn.BatchNorm2d(32), # parameter: 인풋 채널 수\n",
    "                                    nn.LeakyReLU(),\n",
    "                                    nn.MaxPool2d(kernel_size=2))\n",
    "        \n",
    "        self.layer_2 = nn.Sequential(nn.Conv2d(in_channels=32, out_channels=64,\n",
    "                                               kernel_size=3, padding=2),\n",
    "                                     nn.BatchNorm2d(64),\n",
    "                                     nn.LeakyReLU(),\n",
    "                                     nn.MaxPool2d(kernel_size=2))\n",
    "        \n",
    "        self.layer_3 = nn.Sequential(nn.Conv2d(in_channels=64, out_channels=128,\n",
    "                                               kernel_size=3, padding=2),\n",
    "                                     nn.BatchNorm2d(128),\n",
    "                                     nn.LeakyReLU(),\n",
    "                                     nn.MaxPool2d(kernel_size=2))\n",
    "\n",
    "        self.layer_4 = nn.Sequential(nn.Conv2d(in_channels=128, out_channels=256,\n",
    "                                               kernel_size=3, padding=2),\n",
    "                                     nn.BatchNorm2d(256),\n",
    "                                     nn.LeakyReLU(),\n",
    "                                     nn.MaxPool2d(kernel_size=2))\n",
    "\n",
    "        self.layer_5 = nn.Sequential(nn.Conv2d(in_channels=256, out_channels=512,\n",
    "                                               kernel_size=3, padding=2),\n",
    "                                     nn.BatchNorm2d(512),\n",
    "                                     nn.LeakyReLU(),\n",
    "                                     nn.MaxPool2d(kernel_size=2))\n",
    "        \n",
    "        self.avg_pool = nn.AvgPool2d(kernel_size=4)\n",
    "\n",
    "        # FC\n",
    "        self.fc_1 = nn.Linear(in_features=512*1*1, out_features=64)\n",
    "        \n",
    "        self.fc_2 = nn.Linear(in_features=64, out_features=2)\n",
    "\n",
    "    def forward(self, x):\n",
    "        x = self.layer_1(x)\n",
    "        x = self.layer_2(x)\n",
    "        x = self.layer_3(x)\n",
    "        x = self.layer_4(x)\n",
    "        x = self.layer_5(x)\n",
    "        x = self.avg_pool(x)\n",
    "        x = x.view(-1, 512*1*1)\n",
    "        x = self.fc_1(x)\n",
    "        x = self.fc_2(x)\n",
    "        return x"
   ]
  },
  {
   "cell_type": "markdown",
   "metadata": {},
   "source": [
    "# Train"
   ]
  },
  {
   "cell_type": "code",
   "execution_count": 25,
   "metadata": {},
   "outputs": [
    {
     "name": "stdout",
     "output_type": "stream",
     "text": [
      "Epoch [1/10] - loss: 0.1128\n",
      "Epoch [2/10] - loss: 0.0546\n",
      "Epoch [3/10] - loss: 0.0393\n",
      "Epoch [4/10] - loss: 0.0317\n",
      "Epoch [5/10] - loss: 0.0280\n",
      "Epoch [6/10] - loss: 0.0218\n",
      "Epoch [7/10] - loss: 0.0215\n",
      "Epoch [8/10] - loss: 0.0191\n",
      "Epoch [9/10] - loss: 0.0182\n",
      "Epoch [10/10] - loss: 0.0156\n"
     ]
    }
   ],
   "source": [
    "model = Model()\n",
    "criterion = nn.CrossEntropyLoss()\n",
    "# batch 크기가 작으면 lr도 작게\n",
    "optimizer = torch.optim.Adamax(model.parameters(), lr=0.00006)\n",
    "\n",
    "# epochs = 70\n",
    "epochs = 10\n",
    "\n",
    "for epoch in range(epochs):\n",
    "    epoch_loss = 0\n",
    "\n",
    "    for images, labels in train_data_loader:\n",
    "        optimizer.zero_grad()\n",
    "        \n",
    "        # forward\n",
    "        outputs = model(images)\n",
    "        loss = criterion(outputs, labels)\n",
    "        epoch_loss += loss.item()\n",
    "\n",
    "        # backward\n",
    "        loss.backward()\n",
    "        optimizer.step()\n",
    "\n",
    "    print(f\"Epoch [{epoch+1}/{epochs}] - loss: {epoch_loss/len(train_data_loader):.4f}\")"
   ]
  },
  {
   "cell_type": "markdown",
   "metadata": {},
   "source": [
    "# Evaluate"
   ]
  },
  {
   "cell_type": "code",
   "execution_count": 34,
   "metadata": {},
   "outputs": [
    {
     "name": "stdout",
     "output_type": "stream",
     "text": [
      "ROC AUC: 0.9997\n"
     ]
    }
   ],
   "source": [
    "from sklearn.metrics import roc_auc_score\n",
    "\n",
    "true_list = [] # 실제값\n",
    "preds_list = [] # 예측값\n",
    "\n",
    "model.eval() # 평가 상태로 변경\n",
    "\n",
    "with torch.no_grad(): # 기울기 계산 비활성화\n",
    "    for images, labels in valid_data_loader:\n",
    "        outputs = model(images)\n",
    "        preds = torch.softmax(outputs, dim=1)[:, 1] # 선인장이 포함될 확률을 가져온다\n",
    "        true = labels\n",
    "\n",
    "        preds_list.extend(preds)\n",
    "        true_list.extend(true)\n",
    "\n",
    "print(f\"ROC AUC: {roc_auc_score(true_list, preds_list):.4f}\")"
   ]
  },
  {
   "cell_type": "markdown",
   "metadata": {},
   "source": [
    "# Submission"
   ]
  },
  {
   "cell_type": "code",
   "execution_count": 36,
   "metadata": {},
   "outputs": [],
   "source": [
    "test_dataset = ImageDataset(label_df=submission_df, image_dir=\"./data/test\", transform=transform_test)\n",
    "test_data_loader = torch.utils.data.DataLoader(dataset=test_dataset, batch_size=32, shuffle=False)\n",
    "\n",
    "model.eval()\n",
    "preds = []\n",
    "\n",
    "with torch.no_grad():\n",
    "    for images, _label in test_data_loader:\n",
    "        outputs = model(images)\n",
    "        preds_part = torch.softmax(outputs, dim=1)[:, 1].tolist()\n",
    "        preds.extend(preds_part)"
   ]
  },
  {
   "cell_type": "code",
   "execution_count": 39,
   "metadata": {},
   "outputs": [],
   "source": [
    "submission_df[\"has_cactus\"] = preds\n",
    "submission_df.to_csv(\"./data/deeper_cnn_submission.csv\")"
   ]
  },
  {
   "cell_type": "code",
   "execution_count": null,
   "metadata": {},
   "outputs": [],
   "source": []
  }
 ],
 "metadata": {
  "kernelspec": {
   "display_name": "base",
   "language": "python",
   "name": "python3"
  },
  "language_info": {
   "codemirror_mode": {
    "name": "ipython",
    "version": 3
   },
   "file_extension": ".py",
   "mimetype": "text/x-python",
   "name": "python",
   "nbconvert_exporter": "python",
   "pygments_lexer": "ipython3",
   "version": "3.11.5"
  }
 },
 "nbformat": 4,
 "nbformat_minor": 2
}
