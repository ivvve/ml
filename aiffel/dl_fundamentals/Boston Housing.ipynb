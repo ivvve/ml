{
 "cells": [
  {
   "cell_type": "markdown",
   "id": "44d461a4",
   "metadata": {},
   "source": [
    "### 데이터 로드 및 전처리"
   ]
  },
  {
   "cell_type": "code",
   "execution_count": 27,
   "id": "4d15b867",
   "metadata": {},
   "outputs": [],
   "source": [
    "from tensorflow.keras import models, layers\n",
    "import matplotlib.pyplot as plt"
   ]
  },
  {
   "cell_type": "code",
   "execution_count": 28,
   "id": "54d0a712",
   "metadata": {},
   "outputs": [
    {
     "data": {
      "text/plain": [
       "((404, 13), (404,), (102, 13), (102,))"
      ]
     },
     "execution_count": 28,
     "metadata": {},
     "output_type": "execute_result"
    }
   ],
   "source": [
    "# keras.datasets 안에 boston_housing 데이터셋을 로드합니다.\n",
    "from keras.datasets import boston_housing\n",
    "\n",
    "(X_train, y_train), (X_test, y_test) = boston_housing.load_data()\n",
    "\n",
    "# 데이터셋의 크기를 확인합니다.\n",
    "X_train.shape, y_train.shape, X_test.shape, y_test.shape"
   ]
  },
  {
   "cell_type": "code",
   "execution_count": 29,
   "id": "92cc0b08",
   "metadata": {},
   "outputs": [],
   "source": [
    "import numpy as np\n",
    "\n",
    "# 문제 1-1: 데이터셋의 전처리를 위해 표준화 작업을 수행합니다.\n",
    "# 먼저 입력 데이터의 각 특성의 평균을 뺍니다.\n",
    "mean = np.mean(X_train)\n",
    "X_train = X_train - mean\n",
    "\n",
    "# 평균을 뺀 입력 데이터에서 표준편차를 나눕니다.\n",
    "# 데이터 특성의 중앙이 0에 가깝게 만들고, 표준편차가 1이 되게 만듭니다.\n",
    "std = np.std(X_train)\n",
    "X_train = X_train / std\n",
    "\n",
    "# 테스트 데이터셋도 마찬가지로 평균을 빼고, 표준편차로 나눕니다.\n",
    "X_test = (X_test - mean) / std"
   ]
  },
  {
   "cell_type": "markdown",
   "id": "ea91e14e",
   "metadata": {},
   "source": [
    "### 모델 구성 및 컴파일"
   ]
  },
  {
   "cell_type": "code",
   "execution_count": 30,
   "id": "e52149db",
   "metadata": {},
   "outputs": [],
   "source": [
    "# 문제 1-2: 주택 가격 예측을 위한 딥러닝 모델 구성 및 컴파일합니다.\n",
    "# input_shape은 (train_data.shape[1], )으로 구성합니다.\n",
    "# 회귀(예측)을 위한 모델이므로 loss를 mse, metrics를 mae로 사용합니다.\n",
    "model = models.Sequential([\n",
    "    layers.Input(shape=(X_train.shape[1],)),\n",
    "    layers.Dense(128, activation=\"relu\"),\n",
    "    layers.Dense(64, activation=\"relu\"),\n",
    "    layers.Dense(1),\n",
    "])\n",
    "\n",
    "model.compile(optimizer=\"adam\",\n",
    "              loss=\"mse\",\n",
    "              metrics=[\"mae\"])"
   ]
  },
  {
   "cell_type": "markdown",
   "id": "241e9f34",
   "metadata": {},
   "source": [
    "### 모델 학습"
   ]
  },
  {
   "cell_type": "code",
   "execution_count": 31,
   "id": "b5ed3256",
   "metadata": {},
   "outputs": [
    {
     "name": "stdout",
     "output_type": "stream",
     "text": [
      "Epoch 1/60\n",
      "5/5 [==============================] - 0s 28ms/step - loss: 545.8683 - mae: 21.6811 - val_loss: 623.7001 - val_mae: 22.7893\n",
      "Epoch 2/60\n",
      "5/5 [==============================] - 0s 6ms/step - loss: 519.2188 - mae: 21.0291 - val_loss: 596.2010 - val_mae: 22.1428\n",
      "Epoch 3/60\n",
      "5/5 [==============================] - 0s 6ms/step - loss: 492.8877 - mae: 20.3642 - val_loss: 565.0675 - val_mae: 21.3981\n",
      "Epoch 4/60\n",
      "5/5 [==============================] - 0s 6ms/step - loss: 463.4098 - mae: 19.5849 - val_loss: 529.7253 - val_mae: 20.5193\n",
      "Epoch 5/60\n",
      "5/5 [==============================] - 0s 6ms/step - loss: 428.9951 - mae: 18.6500 - val_loss: 487.6029 - val_mae: 19.4291\n",
      "Epoch 6/60\n",
      "5/5 [==============================] - 0s 6ms/step - loss: 387.4056 - mae: 17.4742 - val_loss: 436.3705 - val_mae: 18.0295\n",
      "Epoch 7/60\n",
      "5/5 [==============================] - 0s 6ms/step - loss: 338.2868 - mae: 15.9911 - val_loss: 376.7708 - val_mae: 16.2649\n",
      "Epoch 8/60\n",
      "5/5 [==============================] - 0s 6ms/step - loss: 283.3426 - mae: 14.2054 - val_loss: 312.3379 - val_mae: 14.2200\n",
      "Epoch 9/60\n",
      "5/5 [==============================] - 0s 6ms/step - loss: 226.9745 - mae: 12.2807 - val_loss: 248.6654 - val_mae: 12.0938\n",
      "Epoch 10/60\n",
      "5/5 [==============================] - 0s 6ms/step - loss: 172.3175 - mae: 10.3518 - val_loss: 193.1692 - val_mae: 10.1631\n",
      "Epoch 11/60\n",
      "5/5 [==============================] - 0s 6ms/step - loss: 130.3331 - mae: 8.7209 - val_loss: 152.3026 - val_mae: 8.7524\n",
      "Epoch 12/60\n",
      "5/5 [==============================] - 0s 6ms/step - loss: 105.3015 - mae: 7.7013 - val_loss: 129.6420 - val_mae: 8.1863\n",
      "Epoch 13/60\n",
      "5/5 [==============================] - 0s 6ms/step - loss: 94.6511 - mae: 7.3134 - val_loss: 121.5148 - val_mae: 8.1320\n",
      "Epoch 14/60\n",
      "5/5 [==============================] - 0s 6ms/step - loss: 95.6476 - mae: 7.3491 - val_loss: 118.5772 - val_mae: 8.2149\n",
      "Epoch 15/60\n",
      "5/5 [==============================] - 0s 6ms/step - loss: 94.3752 - mae: 7.3253 - val_loss: 114.8685 - val_mae: 8.0469\n",
      "Epoch 16/60\n",
      "5/5 [==============================] - 0s 6ms/step - loss: 90.0840 - mae: 7.0990 - val_loss: 111.2727 - val_mae: 7.7688\n",
      "Epoch 17/60\n",
      "5/5 [==============================] - 0s 6ms/step - loss: 84.8272 - mae: 6.8073 - val_loss: 109.0074 - val_mae: 7.4757\n",
      "Epoch 18/60\n",
      "5/5 [==============================] - 0s 6ms/step - loss: 81.3446 - mae: 6.5340 - val_loss: 107.9461 - val_mae: 7.2484\n",
      "Epoch 19/60\n",
      "5/5 [==============================] - 0s 6ms/step - loss: 78.4401 - mae: 6.3202 - val_loss: 106.8074 - val_mae: 7.0852\n",
      "Epoch 20/60\n",
      "5/5 [==============================] - 0s 6ms/step - loss: 76.4310 - mae: 6.1669 - val_loss: 104.5238 - val_mae: 6.9589\n",
      "Epoch 21/60\n",
      "5/5 [==============================] - 0s 6ms/step - loss: 74.2761 - mae: 6.0405 - val_loss: 101.3866 - val_mae: 6.8531\n",
      "Epoch 22/60\n",
      "5/5 [==============================] - 0s 6ms/step - loss: 72.0666 - mae: 5.9323 - val_loss: 98.5666 - val_mae: 6.7673\n",
      "Epoch 23/60\n",
      "5/5 [==============================] - 0s 6ms/step - loss: 70.1261 - mae: 5.8287 - val_loss: 95.8894 - val_mae: 6.6924\n",
      "Epoch 24/60\n",
      "5/5 [==============================] - 0s 6ms/step - loss: 68.1701 - mae: 5.7332 - val_loss: 93.7840 - val_mae: 6.5897\n",
      "Epoch 25/60\n",
      "5/5 [==============================] - 0s 6ms/step - loss: 66.3356 - mae: 5.6153 - val_loss: 91.7765 - val_mae: 6.4904\n",
      "Epoch 26/60\n",
      "5/5 [==============================] - 0s 6ms/step - loss: 64.6568 - mae: 5.4939 - val_loss: 90.3466 - val_mae: 6.3820\n",
      "Epoch 27/60\n",
      "5/5 [==============================] - 0s 6ms/step - loss: 63.0185 - mae: 5.3929 - val_loss: 88.4731 - val_mae: 6.3293\n",
      "Epoch 28/60\n",
      "5/5 [==============================] - 0s 7ms/step - loss: 61.9606 - mae: 5.2987 - val_loss: 87.6533 - val_mae: 6.2612\n",
      "Epoch 29/60\n",
      "5/5 [==============================] - 0s 7ms/step - loss: 60.5752 - mae: 5.2372 - val_loss: 85.9766 - val_mae: 6.2519\n",
      "Epoch 30/60\n",
      "5/5 [==============================] - 0s 6ms/step - loss: 59.5926 - mae: 5.2137 - val_loss: 84.7231 - val_mae: 6.2315\n",
      "Epoch 31/60\n",
      "5/5 [==============================] - 0s 6ms/step - loss: 58.8478 - mae: 5.1996 - val_loss: 83.8126 - val_mae: 6.2087\n",
      "Epoch 32/60\n",
      "5/5 [==============================] - 0s 6ms/step - loss: 58.1536 - mae: 5.1537 - val_loss: 83.0514 - val_mae: 6.1741\n",
      "Epoch 33/60\n",
      "5/5 [==============================] - 0s 6ms/step - loss: 57.4749 - mae: 5.1256 - val_loss: 82.5195 - val_mae: 6.1418\n",
      "Epoch 34/60\n",
      "5/5 [==============================] - 0s 6ms/step - loss: 56.9299 - mae: 5.0623 - val_loss: 82.6700 - val_mae: 6.0978\n",
      "Epoch 35/60\n",
      "5/5 [==============================] - 0s 6ms/step - loss: 56.5859 - mae: 5.0232 - val_loss: 82.0461 - val_mae: 6.0931\n",
      "Epoch 36/60\n",
      "5/5 [==============================] - 0s 6ms/step - loss: 56.1797 - mae: 5.0009 - val_loss: 81.9892 - val_mae: 6.0762\n",
      "Epoch 37/60\n",
      "5/5 [==============================] - 0s 6ms/step - loss: 56.0137 - mae: 5.0031 - val_loss: 81.0331 - val_mae: 6.0946\n",
      "Epoch 38/60\n",
      "5/5 [==============================] - 0s 6ms/step - loss: 55.6883 - mae: 5.0416 - val_loss: 80.1025 - val_mae: 6.1235\n",
      "Epoch 39/60\n",
      "5/5 [==============================] - 0s 6ms/step - loss: 55.4780 - mae: 5.0533 - val_loss: 80.2246 - val_mae: 6.1070\n",
      "Epoch 40/60\n",
      "5/5 [==============================] - 0s 6ms/step - loss: 55.3883 - mae: 5.0540 - val_loss: 79.6813 - val_mae: 6.1191\n",
      "Epoch 41/60\n",
      "5/5 [==============================] - 0s 6ms/step - loss: 55.1770 - mae: 5.0634 - val_loss: 79.6717 - val_mae: 6.1076\n",
      "Epoch 42/60\n",
      "5/5 [==============================] - 0s 6ms/step - loss: 55.0950 - mae: 5.0004 - val_loss: 80.4100 - val_mae: 6.0752\n",
      "Epoch 43/60\n",
      "5/5 [==============================] - 0s 6ms/step - loss: 54.9827 - mae: 4.9989 - val_loss: 79.1904 - val_mae: 6.1065\n",
      "Epoch 44/60\n",
      "5/5 [==============================] - 0s 6ms/step - loss: 54.7735 - mae: 5.0293 - val_loss: 79.2272 - val_mae: 6.0962\n",
      "Epoch 45/60\n",
      "5/5 [==============================] - 0s 6ms/step - loss: 54.6676 - mae: 5.0133 - val_loss: 79.4084 - val_mae: 6.0807\n",
      "Epoch 46/60\n",
      "5/5 [==============================] - 0s 6ms/step - loss: 54.6790 - mae: 4.9661 - val_loss: 79.8073 - val_mae: 6.0593\n",
      "Epoch 47/60\n",
      "5/5 [==============================] - 0s 6ms/step - loss: 54.3929 - mae: 4.9763 - val_loss: 78.4221 - val_mae: 6.0964\n",
      "Epoch 48/60\n",
      "5/5 [==============================] - 0s 6ms/step - loss: 54.4101 - mae: 5.0352 - val_loss: 78.2480 - val_mae: 6.0936\n",
      "Epoch 49/60\n",
      "5/5 [==============================] - 0s 6ms/step - loss: 54.3158 - mae: 5.0373 - val_loss: 78.3136 - val_mae: 6.0803\n",
      "Epoch 50/60\n",
      "5/5 [==============================] - 0s 6ms/step - loss: 54.1831 - mae: 5.0120 - val_loss: 78.7275 - val_mae: 6.0553\n",
      "Epoch 51/60\n",
      "5/5 [==============================] - 0s 6ms/step - loss: 54.1291 - mae: 4.9560 - val_loss: 79.3460 - val_mae: 6.0278\n",
      "Epoch 52/60\n",
      "5/5 [==============================] - 0s 6ms/step - loss: 54.0217 - mae: 4.9263 - val_loss: 78.7724 - val_mae: 6.0401\n",
      "Epoch 53/60\n",
      "5/5 [==============================] - 0s 6ms/step - loss: 53.8867 - mae: 4.9583 - val_loss: 77.9459 - val_mae: 6.0608\n",
      "Epoch 54/60\n",
      "5/5 [==============================] - 0s 6ms/step - loss: 53.8905 - mae: 5.0146 - val_loss: 77.6486 - val_mae: 6.0634\n",
      "Epoch 55/60\n",
      "5/5 [==============================] - 0s 6ms/step - loss: 54.1699 - mae: 4.9638 - val_loss: 79.0666 - val_mae: 6.0057\n",
      "Epoch 56/60\n",
      "5/5 [==============================] - 0s 6ms/step - loss: 53.5471 - mae: 4.9051 - val_loss: 77.5495 - val_mae: 6.0494\n",
      "Epoch 57/60\n",
      "5/5 [==============================] - 0s 6ms/step - loss: 53.5670 - mae: 4.9967 - val_loss: 77.1841 - val_mae: 6.0562\n",
      "Epoch 58/60\n",
      "5/5 [==============================] - 0s 6ms/step - loss: 53.5045 - mae: 4.9989 - val_loss: 77.5599 - val_mae: 6.0336\n",
      "Epoch 59/60\n",
      "5/5 [==============================] - 0s 6ms/step - loss: 53.5588 - mae: 4.9166 - val_loss: 78.8159 - val_mae: 5.9809\n",
      "Epoch 60/60\n",
      "5/5 [==============================] - 0s 6ms/step - loss: 53.3274 - mae: 4.8412 - val_loss: 78.2616 - val_mae: 5.9919\n"
     ]
    }
   ],
   "source": [
    "# 문제 1-3: 예측을 위한 딥러닝 모델을 학습합니다.\n",
    "from sklearn.model_selection import train_test_split\n",
    "\n",
    "X_train, X_val, y_train, y_val = train_test_split(X_train, y_train, test_size=0.3)\n",
    "\n",
    "history = model.fit(X_train, y_train,\n",
    "                    validation_data=(X_val, y_val),\n",
    "                    epochs=60, batch_size=64)"
   ]
  },
  {
   "cell_type": "code",
   "execution_count": 32,
   "id": "34619a2d",
   "metadata": {},
   "outputs": [
    {
     "data": {
      "image/png": "[encoded data removed]",
      "text/plain": [
       "<Figure size 864x360 with 2 Axes>"
      ]
     },
     "metadata": {},
     "output_type": "display_data"
    }
   ],
   "source": [
    "# 모델 학습 히스토리에서 loss, val_loss, mae, val_mae를 차트로 보여줍니다.\n",
    "plt.style.use('seaborn-white')\n",
    "\n",
    "history_dict = history.history\n",
    "\n",
    "loss = history_dict['loss']\n",
    "val_loss = history_dict['val_loss']\n",
    "\n",
    "epochs = range(1, len(loss) + 1)\n",
    "fig = plt.figure(figsize=(12, 5))\n",
    "\n",
    "ax1 = fig.add_subplot(1, 2, 1)\n",
    "ax1.plot(epochs, loss, 'b-', label='train_loss')\n",
    "ax1.plot(epochs, val_loss, 'r-', label='val_loss')\n",
    "ax1.set_title('Train and Validation Loss')\n",
    "ax1.set_xlabel('Epochs')\n",
    "ax1.set_ylabel('Loss')\n",
    "ax1.grid()\n",
    "ax1.legend()\n",
    "\n",
    "mae = history_dict['mae']\n",
    "val_mae = history_dict['val_mae']\n",
    "\n",
    "ax2 = fig.add_subplot(1, 2, 2)\n",
    "ax2.plot(epochs, mae, 'b-', label='train_mae')\n",
    "ax2.plot(epochs, val_mae, 'r-', label='val_mae')\n",
    "ax2.set_title('Train and Validation MAE')\n",
    "ax2.set_xlabel('Epochs')\n",
    "ax2.set_ylabel('Accuracy')\n",
    "ax2.grid()\n",
    "ax2.legend()\n",
    "\n",
    "plt.show()"
   ]
  },
  {
   "cell_type": "markdown",
   "id": "a8313544",
   "metadata": {},
   "source": [
    "### 모델 평가 및 예측"
   ]
  },
  {
   "cell_type": "code",
   "execution_count": 33,
   "id": "982fd238",
   "metadata": {},
   "outputs": [
    {
     "name": "stdout",
     "output_type": "stream",
     "text": [
      "4/4 [==============================] - 0s 2ms/step - loss: 58.0212 - mae: 5.5824\n"
     ]
    },
    {
     "data": {
      "text/plain": [
       "[58.02119064331055, 5.582393646240234]"
      ]
     },
     "execution_count": 33,
     "metadata": {},
     "output_type": "execute_result"
    }
   ],
   "source": [
    "# 문제 1-4: 테스트 데이터셋을 이용해 모델을 평가합니다.\n",
    "model.evaluate(X_test, y_test)"
   ]
  },
  {
   "cell_type": "code",
   "execution_count": null,
   "id": "33b7efc8",
   "metadata": {},
   "outputs": [],
   "source": []
  }
 ],
 "metadata": {
  "kernelspec": {
   "display_name": "Python 3 (ipykernel)",
   "language": "python",
   "name": "python3"
  },
  "language_info": {
   "codemirror_mode": {
    "name": "ipython",
    "version": 3
   },
   "file_extension": ".py",
   "mimetype": "text/x-python",
   "name": "python",
   "nbconvert_exporter": "python",
   "pygments_lexer": "ipython3",
   "version": "3.9.7"
  }
 },
 "nbformat": 4,
 "nbformat_minor": 5
}
