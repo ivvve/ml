{
 "cells": [
  {
   "cell_type": "markdown",
   "id": "62ce402d",
   "metadata": {},
   "source": [
    "### 데이터 로드 및 전처리"
   ]
  },
  {
   "cell_type": "code",
   "execution_count": 52,
   "id": "686b0ac4",
   "metadata": {},
   "outputs": [],
   "source": [
    "import numpy as np\n",
    "import matplotlib.pyplot as plt\n",
    "from sklearn.model_selection import train_test_split\n",
    "\n",
    "from tensorflow.keras import models, layers\n",
    "from tensorflow.keras import callbacks\n",
    "from tensorflow.keras import utils\n",
    "from keras.datasets import reuters"
   ]
  },
  {
   "cell_type": "code",
   "execution_count": 54,
   "id": "bdf35a2c",
   "metadata": {},
   "outputs": [
    {
     "name": "stdout",
     "output_type": "stream",
     "text": [
      "6736\n",
      "2246\n",
      "2246\n",
      "46\n"
     ]
    }
   ],
   "source": [
    "# 문제 2-1: reuters 데이터셋을 로드하고, 훈련 데이터셋에서 25%를 검증 데이터셋으로 분리합니다.\n",
    "(X_train, y_train), (X_test, y_test) = reuters.load_data()\n",
    "X_train, X_val, y_train, y_val = train_test_split(X_train, y_train, test_size=0.25)\n",
    "\n",
    "# 훈련, 검증, 테스트 데이터와 레이블 종류가 몇 개인지 출력합니다.\n",
    "print(len(X_train))\n",
    "print(len(X_val))\n",
    "print(len(X_test))\n",
    "print(len(set(y_train)))"
   ]
  },
  {
   "cell_type": "code",
   "execution_count": 56,
   "id": "d03f1788",
   "metadata": {},
   "outputs": [],
   "source": [
    "# 문제 2-2: 텍스트 데이터의 전처리를 위해서 각 데이터셋마다 원-핫 인코딩을 수행합니다.\n",
    "from tensorflow.keras.preprocessing.sequence import pad_sequences\n",
    "\n",
    "def one_hot_encoding(data, dim=10000):\n",
    "    return pad_sequences(data, maxlen=dim)\n",
    "\n",
    "X_train = one_hot_encoding(X_train)\n",
    "X_val = one_hot_encoding(X_val)\n",
    "X_test = one_hot_encoding(X_test)\n",
    "\n",
    "# 레이블 데이터들은 범주형 형태로 to_categorical() 함수를 사용해 변환합니다.\n",
    "from tensorflow.keras.utils import to_categorical\n",
    "\n",
    "y_train = to_categorical(y_train)\n",
    "y_val = to_categorical(y_val)\n",
    "y_test = to_categorical(y_test)"
   ]
  },
  {
   "cell_type": "markdown",
   "id": "76f56248",
   "metadata": {},
   "source": [
    "### 모델 구성 및 컴파일"
   ]
  },
  {
   "cell_type": "code",
   "execution_count": 58,
   "id": "dc4d5226",
   "metadata": {},
   "outputs": [],
   "source": [
    "# 문제 2-3: 빠른 학습과 과대적합을 방지하기 위해 BatchNormalization과 Dropout을 적용한 딥러닝 모델을 구성합니다.\n",
    "model = models.Sequential([\n",
    "    layers.Input(shape=(10_000)),\n",
    "\n",
    "    layers.Dense(128),\n",
    "    layers.BatchNormalization(),\n",
    "    layers.Activation(\"relu\"),\n",
    "    layers.Dropout(0.5),\n",
    "    \n",
    "    layers.Dense(64),\n",
    "    layers.BatchNormalization(),\n",
    "    layers.Activation(\"relu\"),\n",
    "    layers.Dropout(0.5),\n",
    "    \n",
    "    layers.Dense(64),\n",
    "    layers.BatchNormalization(),\n",
    "    layers.Activation(\"relu\"),\n",
    "    layers.Dropout(0.5),\n",
    "\n",
    "    layers.Dense(46, activation=\"softmax\")\n",
    "])\n",
    "      \n",
    "model.compile(optimizer=\"adam\",\n",
    "              loss=\"categorical_crossentropy\",\n",
    "              metrics=[\"accuracy\"])"
   ]
  },
  {
   "cell_type": "code",
   "execution_count": 60,
   "id": "336f7b84",
   "metadata": {},
   "outputs": [
    {
     "name": "stdout",
     "output_type": "stream",
     "text": [
      "Model: \"sequential_7\"\n",
      "_________________________________________________________________\n",
      "Layer (type)                 Output Shape              Param #   \n",
      "=================================================================\n",
      "dense_25 (Dense)             (None, 128)               1280128   \n",
      "_________________________________________________________________\n",
      "batch_normalization_18 (Batc (None, 128)               512       \n",
      "_________________________________________________________________\n",
      "activation_18 (Activation)   (None, 128)               0         \n",
      "_________________________________________________________________\n",
      "dropout_18 (Dropout)         (None, 128)               0         \n",
      "_________________________________________________________________\n",
      "dense_26 (Dense)             (None, 64)                8256      \n",
      "_________________________________________________________________\n",
      "batch_normalization_19 (Batc (None, 64)                256       \n",
      "_________________________________________________________________\n",
      "activation_19 (Activation)   (None, 64)                0         \n",
      "_________________________________________________________________\n",
      "dropout_19 (Dropout)         (None, 64)                0         \n",
      "_________________________________________________________________\n",
      "dense_27 (Dense)             (None, 64)                4160      \n",
      "_________________________________________________________________\n",
      "batch_normalization_20 (Batc (None, 64)                256       \n",
      "_________________________________________________________________\n",
      "activation_20 (Activation)   (None, 64)                0         \n",
      "_________________________________________________________________\n",
      "dropout_20 (Dropout)         (None, 64)                0         \n",
      "_________________________________________________________________\n",
      "dense_28 (Dense)             (None, 46)                2990      \n",
      "=================================================================\n",
      "Total params: 1,296,558\n",
      "Trainable params: 1,296,046\n",
      "Non-trainable params: 512\n",
      "_________________________________________________________________\n"
     ]
    }
   ],
   "source": [
    "model.summary()"
   ]
  },
  {
   "cell_type": "markdown",
   "id": "e31523a9",
   "metadata": {},
   "source": [
    "### 모델 학습"
   ]
  },
  {
   "cell_type": "code",
   "execution_count": 62,
   "id": "decd69be",
   "metadata": {},
   "outputs": [
    {
     "name": "stdout",
     "output_type": "stream",
     "text": [
      "Epoch 1/100\n",
      "106/106 [==============================] - 2s 7ms/step - loss: 3.3641 - accuracy: 0.2322 - val_loss: 2.8993 - val_accuracy: 0.4087\n",
      "Epoch 2/100\n",
      "106/106 [==============================] - 1s 6ms/step - loss: 2.5472 - accuracy: 0.3980 - val_loss: 2.4629 - val_accuracy: 0.4354\n",
      "Epoch 3/100\n",
      "106/106 [==============================] - 1s 6ms/step - loss: 2.4237 - accuracy: 0.4173 - val_loss: 2.3303 - val_accuracy: 0.4435\n",
      "Epoch 4/100\n",
      "106/106 [==============================] - 1s 6ms/step - loss: 2.3747 - accuracy: 0.4222 - val_loss: 2.2794 - val_accuracy: 0.4399\n",
      "Epoch 5/100\n",
      "106/106 [==============================] - 1s 6ms/step - loss: 2.3362 - accuracy: 0.4213 - val_loss: 2.2484 - val_accuracy: 0.4443\n",
      "Epoch 6/100\n",
      "106/106 [==============================] - 1s 6ms/step - loss: 2.3113 - accuracy: 0.4296 - val_loss: 2.2381 - val_accuracy: 0.4452\n",
      "Epoch 7/100\n",
      "106/106 [==============================] - 1s 6ms/step - loss: 2.2833 - accuracy: 0.4344 - val_loss: 2.2262 - val_accuracy: 0.4470\n",
      "Epoch 8/100\n",
      "106/106 [==============================] - 1s 6ms/step - loss: 2.2735 - accuracy: 0.4363 - val_loss: 2.2159 - val_accuracy: 0.4461\n",
      "Epoch 9/100\n",
      "106/106 [==============================] - 1s 6ms/step - loss: 2.2475 - accuracy: 0.4443 - val_loss: 2.2103 - val_accuracy: 0.4488\n",
      "Epoch 10/100\n",
      "106/106 [==============================] - 1s 6ms/step - loss: 2.2279 - accuracy: 0.4412 - val_loss: 2.1980 - val_accuracy: 0.4528\n",
      "Epoch 11/100\n",
      "106/106 [==============================] - 1s 6ms/step - loss: 2.2301 - accuracy: 0.4433 - val_loss: 2.2023 - val_accuracy: 0.4515\n",
      "Epoch 12/100\n",
      "106/106 [==============================] - 1s 6ms/step - loss: 2.2069 - accuracy: 0.4488 - val_loss: 2.1967 - val_accuracy: 0.4488\n",
      "Epoch 13/100\n",
      "106/106 [==============================] - 1s 6ms/step - loss: 2.1864 - accuracy: 0.4461 - val_loss: 2.1917 - val_accuracy: 0.4466\n",
      "Epoch 14/100\n",
      "106/106 [==============================] - 1s 6ms/step - loss: 2.1961 - accuracy: 0.4550 - val_loss: 2.1932 - val_accuracy: 0.4484\n",
      "Epoch 15/100\n",
      "106/106 [==============================] - 1s 6ms/step - loss: 2.1657 - accuracy: 0.4509 - val_loss: 2.1903 - val_accuracy: 0.4484\n",
      "Epoch 16/100\n",
      "106/106 [==============================] - 1s 6ms/step - loss: 2.1461 - accuracy: 0.4562 - val_loss: 2.1868 - val_accuracy: 0.4452\n",
      "Epoch 17/100\n",
      "106/106 [==============================] - 1s 6ms/step - loss: 2.1497 - accuracy: 0.4534 - val_loss: 2.1856 - val_accuracy: 0.4470\n",
      "Epoch 18/100\n",
      "106/106 [==============================] - 1s 6ms/step - loss: 2.1457 - accuracy: 0.4586 - val_loss: 2.1897 - val_accuracy: 0.4466\n",
      "Epoch 19/100\n",
      "106/106 [==============================] - 1s 6ms/step - loss: 2.1310 - accuracy: 0.4653 - val_loss: 2.1882 - val_accuracy: 0.4510\n",
      "Epoch 20/100\n",
      "106/106 [==============================] - 1s 6ms/step - loss: 2.1312 - accuracy: 0.4633 - val_loss: 2.1873 - val_accuracy: 0.4528\n",
      "Epoch 21/100\n",
      "106/106 [==============================] - 1s 6ms/step - loss: 2.1165 - accuracy: 0.4614 - val_loss: 2.1836 - val_accuracy: 0.4501\n",
      "Epoch 22/100\n",
      "106/106 [==============================] - 1s 6ms/step - loss: 2.1064 - accuracy: 0.4645 - val_loss: 2.1894 - val_accuracy: 0.4524\n",
      "Epoch 23/100\n",
      "106/106 [==============================] - 1s 6ms/step - loss: 2.0891 - accuracy: 0.4691 - val_loss: 2.1892 - val_accuracy: 0.4528\n",
      "Epoch 24/100\n",
      "106/106 [==============================] - 1s 6ms/step - loss: 2.0768 - accuracy: 0.4709 - val_loss: 2.1829 - val_accuracy: 0.4550\n",
      "Epoch 25/100\n",
      "106/106 [==============================] - 1s 6ms/step - loss: 2.0801 - accuracy: 0.4727 - val_loss: 2.1840 - val_accuracy: 0.4528\n",
      "Epoch 26/100\n",
      "106/106 [==============================] - 1s 6ms/step - loss: 2.0716 - accuracy: 0.4725 - val_loss: 2.1925 - val_accuracy: 0.4533\n",
      "Epoch 27/100\n",
      "106/106 [==============================] - 1s 6ms/step - loss: 2.0516 - accuracy: 0.4699 - val_loss: 2.1978 - val_accuracy: 0.4524\n",
      "Epoch 28/100\n",
      "106/106 [==============================] - 1s 6ms/step - loss: 2.0512 - accuracy: 0.4780 - val_loss: 2.1960 - val_accuracy: 0.4492\n",
      "Epoch 29/100\n",
      "106/106 [==============================] - 1s 6ms/step - loss: 2.0382 - accuracy: 0.4754 - val_loss: 2.1993 - val_accuracy: 0.4528\n",
      "Epoch 30/100\n",
      "106/106 [==============================] - 1s 6ms/step - loss: 2.0350 - accuracy: 0.4857 - val_loss: 2.1944 - val_accuracy: 0.4479\n",
      "Epoch 31/100\n",
      "106/106 [==============================] - 1s 6ms/step - loss: 2.0301 - accuracy: 0.4798 - val_loss: 2.1993 - val_accuracy: 0.4550\n",
      "Epoch 32/100\n",
      "106/106 [==============================] - 1s 6ms/step - loss: 2.0143 - accuracy: 0.4837 - val_loss: 2.2085 - val_accuracy: 0.4479\n",
      "Epoch 33/100\n",
      "106/106 [==============================] - 1s 6ms/step - loss: 1.9867 - accuracy: 0.4884 - val_loss: 2.2152 - val_accuracy: 0.4484\n",
      "Epoch 34/100\n",
      "106/106 [==============================] - 1s 6ms/step - loss: 1.9891 - accuracy: 0.4883 - val_loss: 2.2126 - val_accuracy: 0.4470\n"
     ]
    }
   ],
   "source": [
    "# 문제 2-4: ModelCheckpoint와 EarlyStopping 콜백 함수를 적용하여 모델 학습을 진행합니다.\n",
    "from tensorflow.keras.callbacks import ModelCheckpoint, EarlyStopping\n",
    "\n",
    "model_checkpoint = ModelCheckpoint(\"reuters_model.keras\", \n",
    "                                   save_best_only=True)\n",
    "early_stopping = EarlyStopping(patience=10, \n",
    "                               monitor=\"val_loss\", \n",
    "                               restore_best_weights=True)\n",
    "\n",
    "history = model.fit(X_train, y_train,\n",
    "                    validation_data=(X_val, y_val),\n",
    "                    epochs=100, batch_size=64,\n",
    "                    callbacks=[model_checkpoint, early_stopping])"
   ]
  },
  {
   "cell_type": "code",
   "execution_count": 64,
   "id": "b7e93379",
   "metadata": {},
   "outputs": [
    {
     "data": {
      "image/png": "[encoded data removed]",
      "text/plain": [
       "<Figure size 864x360 with 2 Axes>"
      ]
     },
     "metadata": {},
     "output_type": "display_data"
    }
   ],
   "source": [
    "# 학습 히스토리의 `loss`, `val_loss`, `accuracy`, `val_accuracy`를 차트로 시각화합니다.\n",
    "plt.style.use('seaborn-white')\n",
    "\n",
    "history_dict = history.history\n",
    "\n",
    "loss = history_dict['loss']\n",
    "val_loss = history_dict['val_loss']\n",
    "\n",
    "epochs = range(1, len(loss) + 1)\n",
    "fig = plt.figure(figsize=(12, 5))\n",
    "\n",
    "ax1 = fig.add_subplot(1, 2, 1)\n",
    "ax1.plot(epochs, loss, 'b-', label='train_loss')\n",
    "ax1.plot(epochs, val_loss, 'r-', label='val_loss')\n",
    "ax1.set_title('Train and Validation Loss')\n",
    "ax1.set_xlabel('Epochs')\n",
    "ax1.set_ylabel('Loss')\n",
    "ax1.grid()\n",
    "ax1.legend()\n",
    "\n",
    "accuracy = history_dict['accuracy']\n",
    "val_accuracy = history_dict['val_accuracy']\n",
    "\n",
    "ax2 = fig.add_subplot(1, 2, 2)\n",
    "ax2.plot(epochs, accuracy, 'b-', label='train_accuracy')\n",
    "ax2.plot(epochs, val_accuracy, 'r-', label='val_accuracy')\n",
    "ax2.set_title('Train and Validation Accuracy')\n",
    "ax2.set_xlabel('Epochs')\n",
    "ax2.set_ylabel('Accuracy')\n",
    "ax2.grid()\n",
    "ax2.legend()\n",
    "\n",
    "plt.show()"
   ]
  },
  {
   "cell_type": "markdown",
   "id": "a82df7a5",
   "metadata": {},
   "source": [
    "### 모델 평가 및 예측"
   ]
  },
  {
   "cell_type": "code",
   "execution_count": 65,
   "id": "93789d3f",
   "metadata": {},
   "outputs": [
    {
     "name": "stdout",
     "output_type": "stream",
     "text": [
      "71/71 [==============================] - 0s 3ms/step - loss: 2.2115 - accuracy: 0.4408\n"
     ]
    },
    {
     "data": {
      "text/plain": [
       "[2.211493968963623, 0.44078361988067627]"
      ]
     },
     "execution_count": 65,
     "metadata": {},
     "output_type": "execute_result"
    }
   ],
   "source": [
    "# 문제 2-5: 테스트 데이터셋을 이용해 모델을 평가합니다.\n",
    "model.evaluate(X_test, y_test)"
   ]
  },
  {
   "cell_type": "code",
   "execution_count": null,
   "id": "d1082325",
   "metadata": {},
   "outputs": [],
   "source": []
  }
 ],
 "metadata": {
  "kernelspec": {
   "display_name": "Python 3 (ipykernel)",
   "language": "python",
   "name": "python3"
  },
  "language_info": {
   "codemirror_mode": {
    "name": "ipython",
    "version": 3
   },
   "file_extension": ".py",
   "mimetype": "text/x-python",
   "name": "python",
   "nbconvert_exporter": "python",
   "pygments_lexer": "ipython3",
   "version": "3.9.7"
  }
 },
 "nbformat": 4,
 "nbformat_minor": 5
}
